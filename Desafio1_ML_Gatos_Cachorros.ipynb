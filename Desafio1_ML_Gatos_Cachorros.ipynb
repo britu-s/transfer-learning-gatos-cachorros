{
  "nbformat": 4,
  "nbformat_minor": 0,
  "metadata": {
    "colab": {
      "provenance": [],
      "authorship_tag": "ABX9TyMThD+uNr7A449DryFqMLMH",
      "include_colab_link": true
    },
    "kernelspec": {
      "name": "python3",
      "display_name": "Python 3"
    },
    "language_info": {
      "name": "python"
    }
  },
  "cells": [
    {
      "cell_type": "markdown",
      "metadata": {
        "id": "view-in-github",
        "colab_type": "text"
      },
      "source": [
        "<a href=\"https://colab.research.google.com/github/britu-s/transfer-learning-gatos-cachorros/blob/main/Desafio1_ML_Gatos_Cachorros.ipynb\" target=\"_parent\"><img src=\"https://colab.research.google.com/assets/colab-badge.svg\" alt=\"Open In Colab\"/></a>"
      ]
    },
    {
      "cell_type": "markdown",
      "source": [
        "# **Projeto de Tranfer Learning  em Python**`\n",
        "\n",
        "O projeto consiste em aplicar o método de Transfer Learning em uma rede de Deep Learning na linguagem Python no ambiente COLAB. (DIO)"
      ],
      "metadata": {
        "id": "pqpFY2moKrtH"
      }
    },
    {
      "cell_type": "markdown",
      "source": [
        "# **Importar biliotecas (dependencias)**\n",
        "\n",
        "\n"
      ],
      "metadata": {
        "id": "rLO-ugCwLmBb"
      }
    },
    {
      "cell_type": "code",
      "source": [
        "import tensorflow as tf\n",
        "from tensorflow.keras.preprocessing.image import ImageDataGenerator\n",
        "import matplotlib.pyplot as plt\n",
        "import zipfile\n",
        "import os\n"
      ],
      "metadata": {
        "id": "8gBqnQVgLq7J"
      },
      "execution_count": 1,
      "outputs": []
    },
    {
      "cell_type": "markdown",
      "source": [
        "# **Baixar data set gatos e cachorros**\n",
        "\n",
        "  Usamos outro data set mais leve 70 megas, ja vem pronto separado ppor pastas mais organizado para quem esta aprendendo."
      ],
      "metadata": {
        "id": "4CVviurxL48v"
      }
    },
    {
      "cell_type": "code",
      "source": [
        "# URL do dataset\n",
        "_URL = 'https://storage.googleapis.com/mledu-datasets/cats_and_dogs_filtered.zip'\n",
        "\n",
        "# Baixar o zip (sem extrair ainda)\n",
        "zip_path = tf.keras.utils.get_file('cats_and_dogs_filtered.zip', origin=_URL, extract=False)\n",
        "\n",
        "# Caminho onde o zip será descompactado\n",
        "extract_dir = os.path.join(os.path.dirname(zip_path), 'cats_and_dogs_filtered')\n",
        "\n",
        "# Descompactar manualmente\n",
        "with zipfile.ZipFile(zip_path, 'r') as zip_ref:\n",
        "    zip_ref.extractall(os.path.dirname(zip_path))\n",
        "\n",
        "# Verificar se a extração deu certo\n",
        "print(\"✅ Dataset extraído em:\", extract_dir)\n",
        "print(\"📂 Existe train?\", os.path.exists(os.path.join(extract_dir, 'train')))\n",
        "print(\"📂 Existe validation?\", os.path.exists(os.path.join(extract_dir, 'validation')))\n"
      ],
      "metadata": {
        "colab": {
          "base_uri": "https://localhost:8080/"
        },
        "id": "TmVESRlAMH_q",
        "outputId": "ada00d96-9de7-4a18-dd63-2b6186cad773"
      },
      "execution_count": 20,
      "outputs": [
        {
          "output_type": "stream",
          "name": "stdout",
          "text": [
            "✅ Dataset extraído em: /root/.keras/datasets/cats_and_dogs_filtered\n",
            "📂 Existe train? True\n",
            "📂 Existe validation? True\n"
          ]
        }
      ]
    },
    {
      "cell_type": "markdown",
      "source": [
        "# **Preparar as pastas com as imagens**"
      ],
      "metadata": {
        "id": "Alcc-2W8M0As"
      }
    },
    {
      "cell_type": "code",
      "source": [
        "train_dir = os.path.join(PATH, 'train')\n",
        "validation_dir = os.path.join(PATH, 'validation')\n",
        "\n",
        "train_cat_dir = os.path.join(train_dir, 'cats')\n",
        "train_dog_dir = os.path.join(train_dir, 'dogs')\n",
        "\n",
        "validation_cat_dir = os.path.join(validation_dir, 'cats')\n",
        "validation_dog_dir = os.path.join(validation_dir, 'dogs')\n"
      ],
      "metadata": {
        "id": "Zwb2SvAaNLU4"
      },
      "execution_count": 21,
      "outputs": []
    },
    {
      "cell_type": "markdown",
      "source": [
        "# **Preparando os dados com ImageDatagenerator**"
      ],
      "metadata": {
        "id": "wzpwnsdWOfFf"
      }
    },
    {
      "cell_type": "code",
      "source": [
        "# ETAPA 5 - PREPARAR OS DADOS COM ImageDataGenerator\n",
        "\n",
        "train_datagen = ImageDataGenerator(rescale=1./255)\n",
        "validation_datagen = ImageDataGenerator(rescale=1./255)\n",
        "\n",
        "train_generator = train_datagen.flow_from_directory(\n",
        "    train_dir,\n",
        "    target_size=(160, 160),\n",
        "    batch_size=20,\n",
        "    class_mode='binary'\n",
        ")\n",
        "\n",
        "validation_generator = validation_datagen.flow_from_directory(\n",
        "    validation_dir,\n",
        "    target_size=(160, 160),\n",
        "    batch_size=20,\n",
        "    class_mode='binary'\n",
        ")\n"
      ],
      "metadata": {
        "colab": {
          "base_uri": "https://localhost:8080/"
        },
        "id": "qnTUFS1dOnFu",
        "outputId": "21d056d4-6d4a-429e-8a3b-8016c6c4e12e"
      },
      "execution_count": 22,
      "outputs": [
        {
          "output_type": "stream",
          "name": "stdout",
          "text": [
            "Found 2000 images belonging to 2 classes.\n",
            "Found 1000 images belonging to 2 classes.\n"
          ]
        }
      ]
    },
    {
      "cell_type": "markdown",
      "source": [
        "# **Criar o modelo com Transfer Learning com MobileNetV2**"
      ],
      "metadata": {
        "id": "DniGKurwRE_2"
      }
    },
    {
      "cell_type": "code",
      "source": [
        "# Carregar o modelo pré-treinado MobileNetV2 sem a parte final (sem o top)\n",
        "IMG_SHAPE = (160, 160, 3)\n",
        "\n",
        "base_model = tf.keras.applications.MobileNetV2(input_shape=IMG_SHAPE,include_top=False,weights='imagenet')\n",
        "\n",
        "# Congelar os pesos da MobileNet para não treinar de novo\n",
        "base_model.trainable = False\n",
        "\n",
        "# Criar o modelo completo com uma camada densa final\n",
        "model = tf.keras.Sequential([\n",
        "    base_model,\n",
        "    tf.keras.layers.GlobalAveragePooling2D(),\n",
        "    tf.keras.layers.Dense(1, activation='sigmoid')  # binário: gato ou cachorro\n",
        "])\n"
      ],
      "metadata": {
        "colab": {
          "base_uri": "https://localhost:8080/"
        },
        "id": "eHcN2z_1RMM4",
        "outputId": "d1f502bc-28e5-4c29-f67b-7122c1578e8f"
      },
      "execution_count": 23,
      "outputs": [
        {
          "output_type": "stream",
          "name": "stdout",
          "text": [
            "Downloading data from https://storage.googleapis.com/tensorflow/keras-applications/mobilenet_v2/mobilenet_v2_weights_tf_dim_ordering_tf_kernels_1.0_160_no_top.h5\n",
            "\u001b[1m9406464/9406464\u001b[0m \u001b[32m━━━━━━━━━━━━━━━━━━━━\u001b[0m\u001b[37m\u001b[0m \u001b[1m0s\u001b[0m 0us/step\n"
          ]
        }
      ]
    },
    {
      "cell_type": "markdown",
      "source": [
        "# **Compilar  e treinar o modelo**"
      ],
      "metadata": {
        "id": "M--mVu_HRZii"
      }
    },
    {
      "cell_type": "code",
      "source": [
        "model.compile(optimizer='adam',loss='binary_crossentropy',metrics=['accuracy'])\n",
        "\n",
        "history = model.fit(\n",
        "    train_generator,\n",
        "    epochs=3,\n",
        "    validation_data=validation_generator\n",
        ")\n"
      ],
      "metadata": {
        "colab": {
          "base_uri": "https://localhost:8080/"
        },
        "id": "9lHbIr4aR-Gi",
        "outputId": "399a6486-2e74-4185-9225-48170532accb"
      },
      "execution_count": 27,
      "outputs": [
        {
          "output_type": "stream",
          "name": "stderr",
          "text": [
            "/usr/local/lib/python3.11/dist-packages/keras/src/trainers/data_adapters/py_dataset_adapter.py:121: UserWarning: Your `PyDataset` class should call `super().__init__(**kwargs)` in its constructor. `**kwargs` can include `workers`, `use_multiprocessing`, `max_queue_size`. Do not pass these arguments to `fit()`, as they will be ignored.\n",
            "  self._warn_if_super_not_called()\n"
          ]
        },
        {
          "output_type": "stream",
          "name": "stdout",
          "text": [
            "Epoch 1/3\n",
            "\u001b[1m100/100\u001b[0m \u001b[32m━━━━━━━━━━━━━━━━━━━━\u001b[0m\u001b[37m\u001b[0m \u001b[1m71s\u001b[0m 652ms/step - accuracy: 0.9285 - loss: 0.2348 - val_accuracy: 0.9600 - val_loss: 0.1053\n",
            "Epoch 2/3\n",
            "\u001b[1m100/100\u001b[0m \u001b[32m━━━━━━━━━━━━━━━━━━━━\u001b[0m\u001b[37m\u001b[0m \u001b[1m61s\u001b[0m 607ms/step - accuracy: 0.9700 - loss: 0.0807 - val_accuracy: 0.9610 - val_loss: 0.0922\n",
            "Epoch 3/3\n",
            "\u001b[1m100/100\u001b[0m \u001b[32m━━━━━━━━━━━━━━━━━━━━\u001b[0m\u001b[37m\u001b[0m \u001b[1m61s\u001b[0m 607ms/step - accuracy: 0.9783 - loss: 0.0564 - val_accuracy: 0.9640 - val_loss: 0.0858\n"
          ]
        }
      ]
    },
    {
      "cell_type": "markdown",
      "source": [
        "# **Resultado com grafico de desempenho**"
      ],
      "metadata": {
        "id": "FeP-YTCiS4C_"
      }
    },
    {
      "cell_type": "code",
      "source": [
        "# Extrair histórico de treino e validação\n",
        "acc = history.history['accuracy']\n",
        "val_acc = history.history['val_accuracy']\n",
        "loss = history.history['loss']\n",
        "val_loss = history.history['val_loss']\n",
        "\n",
        "epochs_range = range(len(acc))\n",
        "\n",
        "# Plotar gráfico\n",
        "plt.figure(figsize=(8, 4))\n",
        "plt.plot(epochs_range, acc, label='Acurácia Treino')\n",
        "plt.plot(epochs_range, val_acc, label='Acurácia Validação')\n",
        "plt.legend(loc='lower right')\n",
        "plt.title('Treinamento e Validação')\n",
        "plt.xlabel('Época')\n",
        "plt.ylabel('Acurácia')\n",
        "plt.show()\n"
      ],
      "metadata": {
        "colab": {
          "base_uri": "https://localhost:8080/",
          "height": 412
        },
        "id": "Nn09gjwvRegY",
        "outputId": "9f537f05-4cf3-485f-ef78-8d165c8cf680"
      },
      "execution_count": 29,
      "outputs": [
        {
          "output_type": "display_data",
          "data": {
            "text/plain": [
              "<Figure size 800x400 with 1 Axes>"
            ],
            "image/png": "[encoded data removed]"
          },
          "metadata": {}
        }
      ]
    }
  ]
}